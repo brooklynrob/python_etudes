{
 "cells": [
  {
   "cell_type": "markdown",
   "id": "directed-monroe",
   "metadata": {},
   "source": [
    "# Python Etudes for FP"
   ]
  },
  {
   "cell_type": "raw",
   "id": "obvious-logistics",
   "metadata": {},
   "source": [
    "## List Comprehensions (and other goodies)"
   ]
  },
  {
   "cell_type": "code",
   "execution_count": 53,
   "id": "civilian-tablet",
   "metadata": {},
   "outputs": [],
   "source": [
    "lst = [4,5,6,4,5,4]"
   ]
  },
  {
   "cell_type": "code",
   "execution_count": 54,
   "id": "bored-chosen",
   "metadata": {},
   "outputs": [
    {
     "data": {
      "text/plain": [
       "[5, 6, 7, 5, 6, 5]"
      ]
     },
     "execution_count": 54,
     "metadata": {},
     "output_type": "execute_result"
    }
   ],
   "source": [
    "new_lst = [_ + 1 for _ in lst]\n",
    "new_lst"
   ]
  },
  {
   "cell_type": "code",
   "execution_count": 55,
   "id": "proud-triangle",
   "metadata": {},
   "outputs": [
    {
     "data": {
      "text/plain": [
       "[5, 7, 5, 5]"
      ]
     },
     "execution_count": 55,
     "metadata": {},
     "output_type": "execute_result"
    }
   ],
   "source": [
    "# filter (just the evens) and map over the result a function to add 1\n",
    "new_lst_filter_evens_add_1 = [_ + 1 for _ in lst if _ % 2 == 0]\n",
    "new_lst_filter_evens_add_1 "
   ]
  },
  {
   "cell_type": "code",
   "execution_count": 56,
   "id": "unlike-wagner",
   "metadata": {},
   "outputs": [
    {
     "data": {
      "text/plain": [
       "[5, 7, 5, 5]"
      ]
     },
     "execution_count": 56,
     "metadata": {},
     "output_type": "execute_result"
    }
   ],
   "source": [
    "# filter and map with anonymous functions (lambdas)\n",
    "# This is effectively identicial to the previous cell\n",
    "# This is also starting to look a bit like Lisp!\n",
    "\n",
    "list(map(lambda _: _ + 1,(filter((lambda _: _ % 2 == 0), lst))))"
   ]
  },
  {
   "cell_type": "code",
   "execution_count": 57,
   "id": "sapphire-lyric",
   "metadata": {},
   "outputs": [
    {
     "data": {
      "text/plain": [
       "[5, 7, 5, 5]"
      ]
     },
     "execution_count": 57,
     "metadata": {},
     "output_type": "execute_result"
    }
   ],
   "source": [
    "# filter and map with named functions\n",
    "\n",
    "def addone(x: int): return x + 1\n",
    "def iseven(x: int): return (x % 2 == 0)\n",
    "\n",
    "list(map(addone,(filter(iseven, lst))))"
   ]
  },
  {
   "cell_type": "code",
   "execution_count": 58,
   "id": "wanted-buffer",
   "metadata": {},
   "outputs": [
    {
     "data": {
      "text/plain": [
       "{'4': 5, '6': 7}"
      ]
     },
     "execution_count": 58,
     "metadata": {},
     "output_type": "execute_result"
    }
   ],
   "source": [
    "new_dict = {str(_): _ + 1 for _ in lst if _ % 2 == 0}\n",
    "new_dict"
   ]
  },
  {
   "cell_type": "code",
   "execution_count": 59,
   "id": "virgin-agency",
   "metadata": {},
   "outputs": [
    {
     "data": {
      "text/plain": [
       "{5, 6, 7}"
      ]
     },
     "execution_count": 59,
     "metadata": {},
     "output_type": "execute_result"
    }
   ],
   "source": [
    "new_set = {_ + 1 for _ in lst}\n",
    "new_set"
   ]
  },
  {
   "cell_type": "code",
   "execution_count": 60,
   "id": "previous-curve",
   "metadata": {},
   "outputs": [
    {
     "data": {
      "text/plain": [
       "True"
      ]
     },
     "execution_count": 60,
     "metadata": {},
     "output_type": "execute_result"
    }
   ],
   "source": [
    "new_set == set(new_lst)"
   ]
  },
  {
   "cell_type": "code",
   "execution_count": 65,
   "id": "suffering-exclusion",
   "metadata": {},
   "outputs": [
    {
     "data": {
      "text/plain": [
       "28"
      ]
     },
     "execution_count": 65,
     "metadata": {},
     "output_type": "execute_result"
    }
   ],
   "source": [
    "from functools import reduce \n",
    "reduce(lambda x, y: x + y,lst)"
   ]
  },
  {
   "cell_type": "code",
   "execution_count": 66,
   "id": "introductory-command",
   "metadata": {},
   "outputs": [
    {
     "data": {
      "text/plain": [
       "True"
      ]
     },
     "execution_count": 66,
     "metadata": {},
     "output_type": "execute_result"
    }
   ],
   "source": [
    "# should be true\n",
    "sum(lst) == reduce(lambda x, y: x + y,lst)"
   ]
  },
  {
   "cell_type": "code",
   "execution_count": 69,
   "id": "robust-guarantee",
   "metadata": {},
   "outputs": [
    {
     "data": {
      "text/plain": [
       "10"
      ]
     },
     "execution_count": 69,
     "metadata": {},
     "output_type": "execute_result"
    }
   ],
   "source": [
    "# What happens if list is just one element long?\n",
    "\n",
    "short_lst = [10]\n",
    "reduce(lambda x, y: x + y,short_lst)"
   ]
  },
  {
   "cell_type": "code",
   "execution_count": 79,
   "id": "worst-increase",
   "metadata": {},
   "outputs": [
    {
     "data": {
      "text/plain": [
       "[0, 1, 2, 3, 4, 5, 6, 7, 8, 9]"
      ]
     },
     "execution_count": 79,
     "metadata": {},
     "output_type": "execute_result"
    }
   ],
   "source": [
    "i = iter(range(10))\n",
    "list(i)"
   ]
  },
  {
   "cell_type": "code",
   "execution_count": 304,
   "id": "motivated-battlefield",
   "metadata": {},
   "outputs": [
    {
     "data": {
      "text/plain": [
       "3"
      ]
     },
     "execution_count": 304,
     "metadata": {},
     "output_type": "execute_result"
    }
   ],
   "source": [
    "import itertools\n",
    "natural_numbers = itertools.count(1)\n",
    "next(natural_numbers)\n",
    "next(natural_numbers)\n",
    "next(natural_numbers)"
   ]
  },
  {
   "cell_type": "code",
   "execution_count": 301,
   "id": "median-sigma",
   "metadata": {},
   "outputs": [],
   "source": [
    "# Function for summable sequences\n",
    "# Example to get the 10th fibonacci number: get_seq_sum((0,1),10\n",
    "\n",
    "def get_seq_sum(seq: tuple, num: int) -> int:\n",
    "    for _ in range(num - 1):\n",
    "        seq = (lambda seq: seq[1:] + (reduce(lambda x, y: x + y, seq),))((seq))\n",
    "    return seq[-1]"
   ]
  },
  {
   "cell_type": "code",
   "execution_count": 309,
   "id": "satisfied-surgeon",
   "metadata": {},
   "outputs": [
    {
     "data": {
      "text/plain": [
       "55"
      ]
     },
     "execution_count": 309,
     "metadata": {},
     "output_type": "execute_result"
    }
   ],
   "source": [
    "# Get 10th fibonacci number\n",
    "get_seq_sum((0,1),10)"
   ]
  },
  {
   "cell_type": "code",
   "execution_count": 168,
   "id": "educational-interim",
   "metadata": {},
   "outputs": [],
   "source": [
    "def get_sum(seq:tuple):\n",
    "    return reduce(lambda x, y: x + y, seq)"
   ]
  },
  {
   "cell_type": "code",
   "execution_count": 214,
   "id": "genuine-keyboard",
   "metadata": {},
   "outputs": [],
   "source": [
    "def get_new_tup(seq:tuple):\n",
    "    return seq[1:] + (reduce(lambda x, y: x + y, seq),)"
   ]
  },
  {
   "cell_type": "markdown",
   "id": "impaired-alpha",
   "metadata": {},
   "source": [
    "## List comprehension plus a dictionary of answers "
   ]
  },
  {
   "cell_type": "code",
   "execution_count": 15,
   "id": "fatal-percentage",
   "metadata": {},
   "outputs": [
    {
     "data": {
      "text/plain": [
       "[{'id': '2476706', 'answer': {'foo': 'bar'}},\n",
       " {'id': '2476703', 'answer': {'foo': 'bar'}}]"
      ]
     },
     "execution_count": 15,
     "metadata": {},
     "output_type": "execute_result"
    }
   ],
   "source": [
    "ids_lst = ['2476706', '2476703']\n",
    "all_quiz_answers = [\n",
    "    {\n",
    "        'id': '2494555',\n",
    "        'answer':\n",
    "            {\n",
    "                \"u_0\": '123',\n",
    "                \"u_1\": '123',\n",
    "                \"u_2\": '123',\n",
    "                \"u_3\": '123',\n",
    "                \"u_4\": '123',\n",
    "            }\n",
    "    },\n",
    "    {\n",
    "        'id': '2476706',\n",
    "        'answer': \n",
    "            {\n",
    "                'foo': 'bar'\n",
    "            }\n",
    "    },\n",
    "    {\n",
    "        'id':'2476703',\n",
    "        'answer':\n",
    "            {\n",
    "                'foo': 'bar'      \n",
    "            }\n",
    "    },\n",
    "    {\n",
    "        'id':'12345',\n",
    "        'answer': 'False'\n",
    "    }\n",
    "]\n",
    "\n",
    "\n",
    "answers = [answer for answer in all_quiz_answers if answer['id'] in ids_lst]\n",
    "answers"
   ]
  },
  {
   "cell_type": "markdown",
   "id": "coordinated-upper",
   "metadata": {},
   "source": [
    "## Registry Decorator Design Pattern with Reduce"
   ]
  },
  {
   "cell_type": "code",
   "execution_count": 30,
   "id": "suited-cornell",
   "metadata": {},
   "outputs": [],
   "source": [
    "# Registry Decorator Design Pattern with Reduce\n",
    "# See https://www.geeksforgeeks.org/find-average-list-python/\n",
    "from functools import reduce\n",
    "\n",
    "SUMMARIES = {}\n",
    "def register(func):\n",
    "    # Name = Key\n",
    "    SUMMARIES[func.__name__] = func\n",
    "    return func\n",
    "\n",
    "# Get the average of a list\n",
    "@register\n",
    "def mean(lst):\n",
    "    # Alt 1: return sum(lst) / len(lst) \n",
    "    # Alt 2 from statistics import mean \n",
    "    return reduce(lambda a, b: a + b, lst) / len(lst) \n",
    "\n",
    "\n",
    "# Take (\"Pop\") the first item of a list\n",
    "@register\n",
    "def pop(lst):\n",
    "    return lst[0]\n",
    "\n",
    "def summarize(vec,stat='mean'):\n",
    "    return SUMMARIES[stat](vec)\n"
   ]
  },
  {
   "cell_type": "code",
   "execution_count": 31,
   "id": "unlimited-quantum",
   "metadata": {},
   "outputs": [
    {
     "data": {
      "text/plain": [
       "2.25"
      ]
     },
     "execution_count": 31,
     "metadata": {},
     "output_type": "execute_result"
    }
   ],
   "source": [
    "summarize([0,2,3,4],'mean')"
   ]
  },
  {
   "cell_type": "code",
   "execution_count": 32,
   "id": "american-yemen",
   "metadata": {},
   "outputs": [
    {
     "data": {
      "text/plain": [
       "2.25"
      ]
     },
     "execution_count": 32,
     "metadata": {},
     "output_type": "execute_result"
    }
   ],
   "source": [
    "#Identifical to last line since 'mean' is the default \n",
    "summarize([0,2,3,4])"
   ]
  },
  {
   "cell_type": "code",
   "execution_count": 33,
   "id": "polish-environment",
   "metadata": {},
   "outputs": [
    {
     "data": {
      "text/plain": [
       "1"
      ]
     },
     "execution_count": 33,
     "metadata": {},
     "output_type": "execute_result"
    }
   ],
   "source": [
    "summarize([1,2,3,4],'pop')"
   ]
  },
  {
   "cell_type": "code",
   "execution_count": null,
   "id": "atmospheric-jefferson",
   "metadata": {},
   "outputs": [],
   "source": []
  }
 ],
 "metadata": {
  "kernelspec": {
   "display_name": "Python 3",
   "language": "python",
   "name": "python3"
  },
  "language_info": {
   "codemirror_mode": {
    "name": "ipython",
    "version": 3
   },
   "file_extension": ".py",
   "mimetype": "text/x-python",
   "name": "python",
   "nbconvert_exporter": "python",
   "pygments_lexer": "ipython3",
   "version": "3.8.4"
  }
 },
 "nbformat": 4,
 "nbformat_minor": 5
}
