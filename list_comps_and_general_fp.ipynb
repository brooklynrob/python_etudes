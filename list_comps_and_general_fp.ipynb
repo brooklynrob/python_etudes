{
 "cells": [
  {
   "cell_type": "markdown",
   "id": "noble-charles",
   "metadata": {},
   "source": [
    "# List Comprehensions (and other goodies)"
   ]
  },
  {
   "cell_type": "code",
   "execution_count": 53,
   "id": "incomplete-printing",
   "metadata": {},
   "outputs": [],
   "source": [
    "lst = [4,5,6,4,5,4]"
   ]
  },
  {
   "cell_type": "code",
   "execution_count": 54,
   "id": "bulgarian-digest",
   "metadata": {},
   "outputs": [
    {
     "data": {
      "text/plain": [
       "[5, 6, 7, 5, 6, 5]"
      ]
     },
     "execution_count": 54,
     "metadata": {},
     "output_type": "execute_result"
    }
   ],
   "source": [
    "new_lst = [_ + 1 for _ in lst]\n",
    "new_lst"
   ]
  },
  {
   "cell_type": "code",
   "execution_count": 55,
   "id": "absolute-incident",
   "metadata": {},
   "outputs": [
    {
     "data": {
      "text/plain": [
       "[5, 7, 5, 5]"
      ]
     },
     "execution_count": 55,
     "metadata": {},
     "output_type": "execute_result"
    }
   ],
   "source": [
    "# filter (just the evens) and map over the result a function to add 1\n",
    "new_lst_filter_evens_add_1 = [_ + 1 for _ in lst if _ % 2 == 0]\n",
    "new_lst_filter_evens_add_1 "
   ]
  },
  {
   "cell_type": "code",
   "execution_count": 56,
   "id": "excited-document",
   "metadata": {},
   "outputs": [
    {
     "data": {
      "text/plain": [
       "[5, 7, 5, 5]"
      ]
     },
     "execution_count": 56,
     "metadata": {},
     "output_type": "execute_result"
    }
   ],
   "source": [
    "# filter and map with anonymous functions (lambdas)\n",
    "# This is effectively identicial to the previous cell\n",
    "# This is also starting to look a bit like Lisp!\n",
    "\n",
    "list(map(lambda _: _ + 1,(filter((lambda _: _ % 2 == 0), lst))))"
   ]
  },
  {
   "cell_type": "code",
   "execution_count": 57,
   "id": "italian-lesbian",
   "metadata": {},
   "outputs": [
    {
     "data": {
      "text/plain": [
       "[5, 7, 5, 5]"
      ]
     },
     "execution_count": 57,
     "metadata": {},
     "output_type": "execute_result"
    }
   ],
   "source": [
    "# filter and map with named functions\n",
    "\n",
    "def addone(x: int): return x + 1\n",
    "def iseven(x: int): return (x % 2 == 0)\n",
    "\n",
    "list(map(addone,(filter(iseven, lst))))"
   ]
  },
  {
   "cell_type": "code",
   "execution_count": 58,
   "id": "victorian-heading",
   "metadata": {},
   "outputs": [
    {
     "data": {
      "text/plain": [
       "{'4': 5, '6': 7}"
      ]
     },
     "execution_count": 58,
     "metadata": {},
     "output_type": "execute_result"
    }
   ],
   "source": [
    "new_dict = {str(_): _ + 1 for _ in lst if _ % 2 == 0}\n",
    "new_dict"
   ]
  },
  {
   "cell_type": "code",
   "execution_count": 59,
   "id": "worse-lounge",
   "metadata": {},
   "outputs": [
    {
     "data": {
      "text/plain": [
       "{5, 6, 7}"
      ]
     },
     "execution_count": 59,
     "metadata": {},
     "output_type": "execute_result"
    }
   ],
   "source": [
    "new_set = {_ + 1 for _ in lst}\n",
    "new_set"
   ]
  },
  {
   "cell_type": "code",
   "execution_count": 60,
   "id": "exclusive-banana",
   "metadata": {},
   "outputs": [
    {
     "data": {
      "text/plain": [
       "True"
      ]
     },
     "execution_count": 60,
     "metadata": {},
     "output_type": "execute_result"
    }
   ],
   "source": [
    "new_set == set(new_lst)"
   ]
  },
  {
   "cell_type": "code",
   "execution_count": 65,
   "id": "incorporated-toolbox",
   "metadata": {},
   "outputs": [
    {
     "data": {
      "text/plain": [
       "28"
      ]
     },
     "execution_count": 65,
     "metadata": {},
     "output_type": "execute_result"
    }
   ],
   "source": [
    "from functools import reduce \n",
    "reduce(lambda x, y: x + y,lst)"
   ]
  },
  {
   "cell_type": "code",
   "execution_count": 66,
   "id": "moved-florist",
   "metadata": {},
   "outputs": [
    {
     "data": {
      "text/plain": [
       "True"
      ]
     },
     "execution_count": 66,
     "metadata": {},
     "output_type": "execute_result"
    }
   ],
   "source": [
    "# should be true\n",
    "sum(lst) == reduce(lambda x, y: x + y,lst)"
   ]
  },
  {
   "cell_type": "code",
   "execution_count": 69,
   "id": "demographic-disaster",
   "metadata": {},
   "outputs": [
    {
     "data": {
      "text/plain": [
       "10"
      ]
     },
     "execution_count": 69,
     "metadata": {},
     "output_type": "execute_result"
    }
   ],
   "source": [
    "# What happens if list is just one element long?\n",
    "\n",
    "short_lst = [10]\n",
    "reduce(lambda x, y: x + y,short_lst)"
   ]
  }
 ],
 "metadata": {
  "kernelspec": {
   "display_name": "Python 3",
   "language": "python",
   "name": "python3"
  },
  "language_info": {
   "codemirror_mode": {
    "name": "ipython",
    "version": 3
   },
   "file_extension": ".py",
   "mimetype": "text/x-python",
   "name": "python",
   "nbconvert_exporter": "python",
   "pygments_lexer": "ipython3",
   "version": "3.8.4"
  }
 },
 "nbformat": 4,
 "nbformat_minor": 5
}
