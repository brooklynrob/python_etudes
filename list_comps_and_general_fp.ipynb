{
 "cells": [
  {
   "cell_type": "markdown",
   "id": "hindu-times",
   "metadata": {},
   "source": [
    "# List Comprehensions (and other goodies)"
   ]
  },
  {
   "cell_type": "code",
   "execution_count": 13,
   "id": "electrical-northeast",
   "metadata": {},
   "outputs": [
    {
     "data": {
      "text/plain": [
       "[4, 5, 6, 4, 5, 4]"
      ]
     },
     "execution_count": 13,
     "metadata": {},
     "output_type": "execute_result"
    }
   ],
   "source": [
    "lst"
   ]
  },
  {
   "cell_type": "code",
   "execution_count": 17,
   "id": "olive-contribution",
   "metadata": {},
   "outputs": [
    {
     "data": {
      "text/plain": [
       "[5, 6, 7, 5, 6, 5]"
      ]
     },
     "execution_count": 17,
     "metadata": {},
     "output_type": "execute_result"
    }
   ],
   "source": [
    "new_lst = [_ + 1 for _ in lst]\n",
    "new_lst"
   ]
  },
  {
   "cell_type": "code",
   "execution_count": 25,
   "id": "continuous-causing",
   "metadata": {},
   "outputs": [
    {
     "data": {
      "text/plain": [
       "[5, 7, 5, 5]"
      ]
     },
     "execution_count": 25,
     "metadata": {},
     "output_type": "execute_result"
    }
   ],
   "source": [
    "# filter (just the evens) and map over the result a function to add 1\n",
    "new_lst_filter_evens_add_1 = [_ + 1 for _ in lst if _ % 2 == 0]\n",
    "new_lst_filter_evens_add_1 "
   ]
  },
  {
   "cell_type": "code",
   "execution_count": 53,
   "id": "acting-stress",
   "metadata": {},
   "outputs": [
    {
     "data": {
      "text/plain": [
       "[5, 7, 5, 5]"
      ]
     },
     "execution_count": 53,
     "metadata": {},
     "output_type": "execute_result"
    }
   ],
   "source": [
    "# filter and map with anonymous functions (lambdas)\n",
    "# This is effectively identicial to the previous cell\n",
    "# This is also starting to look a bit like Lisp!\n",
    "\n",
    "list(map(lambda _: _ + 1,(filter((lambda _: _ % 2 == 0), lst))))"
   ]
  },
  {
   "cell_type": "code",
   "execution_count": 54,
   "id": "massive-valley",
   "metadata": {},
   "outputs": [
    {
     "data": {
      "text/plain": [
       "[5, 7, 5, 5]"
      ]
     },
     "execution_count": 54,
     "metadata": {},
     "output_type": "execute_result"
    }
   ],
   "source": [
    "# filter and map with named functions\n",
    "\n",
    "def addone(x: int): return x + 1\n",
    "def iseven(x: int): return (x % 2 == 0)\n",
    "\n",
    "list(map(addone,(filter(iseven, lst))))"
   ]
  },
  {
   "cell_type": "code",
   "execution_count": 19,
   "id": "physical-tourism",
   "metadata": {},
   "outputs": [
    {
     "data": {
      "text/plain": [
       "{'4': 5, '6': 7}"
      ]
     },
     "execution_count": 19,
     "metadata": {},
     "output_type": "execute_result"
    }
   ],
   "source": [
    "new_dict = {str(_): _ + 1 for _ in lst if _ % 2 == 0}\n",
    "new_dict"
   ]
  },
  {
   "cell_type": "code",
   "execution_count": 22,
   "id": "respiratory-transsexual",
   "metadata": {},
   "outputs": [
    {
     "data": {
      "text/plain": [
       "{5, 6, 7}"
      ]
     },
     "execution_count": 22,
     "metadata": {},
     "output_type": "execute_result"
    }
   ],
   "source": [
    "new_set = {_ + 1 for _ in lst}\n",
    "new_set"
   ]
  },
  {
   "cell_type": "code",
   "execution_count": 24,
   "id": "interim-cross",
   "metadata": {},
   "outputs": [
    {
     "data": {
      "text/plain": [
       "True"
      ]
     },
     "execution_count": 24,
     "metadata": {},
     "output_type": "execute_result"
    }
   ],
   "source": [
    "new_set == set(new_lst)"
   ]
  },
  {
   "cell_type": "code",
   "execution_count": null,
   "id": "exceptional-imperial",
   "metadata": {},
   "outputs": [],
   "source": []
  }
 ],
 "metadata": {
  "kernelspec": {
   "display_name": "Python 3",
   "language": "python",
   "name": "python3"
  },
  "language_info": {
   "codemirror_mode": {
    "name": "ipython",
    "version": 3
   },
   "file_extension": ".py",
   "mimetype": "text/x-python",
   "name": "python",
   "nbconvert_exporter": "python",
   "pygments_lexer": "ipython3",
   "version": "3.8.4"
  }
 },
 "nbformat": 4,
 "nbformat_minor": 5
}
